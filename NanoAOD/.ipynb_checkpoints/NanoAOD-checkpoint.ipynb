{
 "cells": [
  {
   "cell_type": "markdown",
   "metadata": {},
   "source": [
    "<font color=blue size=7>[NanoAOD doc](https://cms-nanoaod-integration.web.cern.ch/integration/master-102X/mc102X_doc.html)</font> "
   ]
  },
  {
   "cell_type": "markdown",
   "metadata": {},
   "source": [
    "<font color=blue size=6>[Gen Validation](https://cms-nanoaod-integration.web.cern.ch/integration/master-102X/mc102X_doc.html#GenPart)</font> <br><br>\n",
    "<font color=blue size=5>[Variables stored in miniAOD](https://github.com/xdlyu/fullRunII_ntuple_102X/blob/master/16/mc/ExoDiBosonResonances/EDBRTreeMaker/plugins/EDBRTreeMaker.cc#L2017-L2933)</font> <br><br>\n",
    "<font color=Black font size=3> <blockquote> Gen (anti)top : daughter w (daughters), daughter b <br>  Gen W<sub>kk</sub> : daughter w (daughters) <br> Gen W from Radion : w daughters <br> Gen Radion : w+, w- (daughters) <br> Gen W <br> Gen Z <br> Gen q <br> Gen g </blockquote></font> <br>"
   ]
  },
  {
   "cell_type": "markdown",
   "metadata": {},
   "source": [
    "<font color=Green font size=5> First copy</font> <br><br>\n",
    "<font color=Green font size=5> Last copy </font> <br><br>\n",
    "<font color=Black font size=3> isLastCopy</font> <br>\n",
    "<font color=Black font size=3>  [isLastCopyBeforeFSR](https://github.com/cms-sw/cmssw/blob/master/DataFormats/HepMCCandidate/interface/GenParticle.h) </font> <br>\n",
    "<font color=Black font size=2><blockquote>  this particle is the last copy of the particle in the chain with the same pdg id before QED or QCD FSR (and therefore is more likely, but not guaranteed, to carry the momentum after ISR) </font> <br>"
   ]
  },
  {
   "cell_type": "markdown",
   "metadata": {},
   "source": [
    "<font color=blue size=6>MET JEC,JER</font> <br><br>"
   ]
  },
  {
   "cell_type": "markdown",
   "metadata": {},
   "source": [
    "<font color=blue size=6>Leptonic W , Radion?</font> <br><br>"
   ]
  },
  {
   "cell_type": "markdown",
   "metadata": {},
   "source": [
    "<font color=blue size=6>P<sub>T</sub> ranked AK8</font> <br><br>"
   ]
  },
  {
   "cell_type": "markdown",
   "metadata": {},
   "source": [
    "<font color=blue size=6>AK4</font> <br><br>"
   ]
  }
 ],
 "metadata": {
  "kernelspec": {
   "display_name": "Python 3",
   "language": "python",
   "name": "python3"
  },
  "language_info": {
   "codemirror_mode": {
    "name": "ipython",
    "version": 3
   },
   "file_extension": ".py",
   "mimetype": "text/x-python",
   "name": "python",
   "nbconvert_exporter": "python",
   "pygments_lexer": "ipython3",
   "version": "3.8.2"
  }
 },
 "nbformat": 4,
 "nbformat_minor": 2
}
